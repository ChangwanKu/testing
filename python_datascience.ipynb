{
 "cells": [
  {
   "cell_type": "code",
   "execution_count": 18,
   "metadata": {},
   "outputs": [
    {
     "name": "stdout",
     "output_type": "stream",
     "text": [
      "1 의 제곱은 1\n",
      "2 의 제곱은 4\n",
      "3 의 제곱은 9\n"
     ]
    }
   ],
   "source": [
    "def square(x):\n",
    "    return x**2\n",
    "for N in range(1,4):\n",
    "    print(N,\"의 제곱은\",square(N))"
   ]
  },
  {
   "cell_type": "code",
   "execution_count": 19,
   "metadata": {},
   "outputs": [
    {
     "data": {
      "text/plain": [
       "0.9092974268256817"
      ]
     },
     "execution_count": 19,
     "metadata": {},
     "output_type": "execute_result"
    }
   ],
   "source": [
    "import math\n",
    "math.sin(2)"
   ]
  },
  {
   "cell_type": "code",
   "execution_count": null,
   "metadata": {
    "collapsed": true
   },
   "outputs": [],
   "source": []
  },
  {
   "cell_type": "code",
   "execution_count": 5,
   "metadata": {},
   "outputs": [
    {
     "data": {
      "text/plain": [
       "'1.13.3'"
      ]
     },
     "execution_count": 5,
     "metadata": {},
     "output_type": "execute_result"
    }
   ],
   "source": [
    "import numpy\n",
    "numpy.__version__"
   ]
  },
  {
   "cell_type": "code",
   "execution_count": 6,
   "metadata": {
    "collapsed": true
   },
   "outputs": [],
   "source": [
    "result = 0\n",
    "for i in range(100):\n",
    "    result += i"
   ]
  },
  {
   "cell_type": "code",
   "execution_count": 7,
   "metadata": {},
   "outputs": [
    {
     "name": "stdout",
     "output_type": "stream",
     "text": [
      "4950\n"
     ]
    }
   ],
   "source": [
    "print(result)"
   ]
  },
  {
   "cell_type": "code",
   "execution_count": 17,
   "metadata": {},
   "outputs": [
    {
     "name": "stdout",
     "output_type": "stream",
     "text": [
      "[Errno 2] No such file or directory: 'data'\n",
      "/home/changawan/data/data\n",
      "['/home/changawan/data/python']\n"
     ]
    }
   ],
   "source": [
    "%cd data\n",
    "print(address)"
   ]
  },
  {
   "cell_type": "code",
   "execution_count": 3,
   "metadata": {},
   "outputs": [
    {
     "data": {
      "text/plain": [
       "array([1, 4, 2, 5, 3])"
      ]
     },
     "execution_count": 3,
     "metadata": {},
     "output_type": "execute_result"
    }
   ],
   "source": [
    "import numpy as np\n",
    "np.array([1,4,2,5,3])"
   ]
  },
  {
   "cell_type": "code",
   "execution_count": 1,
   "metadata": {},
   "outputs": [
    {
     "data": {
      "text/plain": [
       "array('i', [0, 1, 2, 3, 4, 5, 6, 7, 8, 9])"
      ]
     },
     "execution_count": 1,
     "metadata": {},
     "output_type": "execute_result"
    }
   ],
   "source": [
    "import array\n",
    "L=list(range(10))\n",
    "A=array.array('i',L) # i는 integer 타입코드\n",
    "A"
   ]
  },
  {
   "cell_type": "code",
   "execution_count": 4,
   "metadata": {},
   "outputs": [
    {
     "data": {
      "text/plain": [
       "array([[2, 3, 4],\n",
       "       [4, 5, 6],\n",
       "       [6, 7, 8]])"
      ]
     },
     "execution_count": 4,
     "metadata": {},
     "output_type": "execute_result"
    }
   ],
   "source": [
    "#numpy array의 명시적 다차원\n",
    "#리스트를 중첩해서 다차원 배열을 만든다???\n",
    "np.array([range(i,i+3) for i in [2,4,6]])"
   ]
  },
  {
   "cell_type": "code",
   "execution_count": 5,
   "metadata": {},
   "outputs": [
    {
     "data": {
      "text/plain": [
       "array([0, 0, 0, 0, 0, 0, 0, 0, 0, 0])"
      ]
     },
     "execution_count": 5,
     "metadata": {},
     "output_type": "execute_result"
    }
   ],
   "source": [
    "np.zeros(10,dtype=int)"
   ]
  },
  {
   "cell_type": "code",
   "execution_count": 6,
   "metadata": {},
   "outputs": [
    {
     "data": {
      "text/plain": [
       "array([[ 1.,  1.,  1.,  1.,  1.],\n",
       "       [ 1.,  1.,  1.,  1.,  1.],\n",
       "       [ 1.,  1.,  1.,  1.,  1.]])"
      ]
     },
     "execution_count": 6,
     "metadata": {},
     "output_type": "execute_result"
    }
   ],
   "source": [
    "np.ones((3,5),dtype=float)"
   ]
  },
  {
   "cell_type": "code",
   "execution_count": 7,
   "metadata": {},
   "outputs": [
    {
     "data": {
      "text/plain": [
       "array([[ 3.14,  3.14,  3.14,  3.14,  3.14],\n",
       "       [ 3.14,  3.14,  3.14,  3.14,  3.14],\n",
       "       [ 3.14,  3.14,  3.14,  3.14,  3.14]])"
      ]
     },
     "execution_count": 7,
     "metadata": {},
     "output_type": "execute_result"
    }
   ],
   "source": [
    "np.full((3,5),3.14)"
   ]
  },
  {
   "cell_type": "code",
   "execution_count": 9,
   "metadata": {},
   "outputs": [
    {
     "data": {
      "text/plain": [
       "array([ 0,  2,  4,  6,  8, 10, 12, 14, 16, 18])"
      ]
     },
     "execution_count": 9,
     "metadata": {},
     "output_type": "execute_result"
    }
   ],
   "source": [
    "#수열로 배열 채우기\n",
    "#0에서 시작 20까지 채움\n",
    "np.arange(0,20,2)"
   ]
  },
  {
   "cell_type": "code",
   "execution_count": 10,
   "metadata": {},
   "outputs": [
    {
     "data": {
      "text/plain": [
       "array([ 0.  ,  0.25,  0.5 ,  0.75,  1.  ])"
      ]
     },
     "execution_count": 10,
     "metadata": {},
     "output_type": "execute_result"
    }
   ],
   "source": [
    "np.linspace(0,1,5)"
   ]
  },
  {
   "cell_type": "code",
   "execution_count": 11,
   "metadata": {},
   "outputs": [
    {
     "data": {
      "text/plain": [
       "array([ 0.        ,  0.01555556,  0.03111111,  0.04666667,  0.06222222,\n",
       "        0.07777778,  0.09333333,  0.10888889,  0.12444444,  0.14      ])"
      ]
     },
     "execution_count": 11,
     "metadata": {},
     "output_type": "execute_result"
    }
   ],
   "source": [
    "np.linspace(0,0.14,10)"
   ]
  },
  {
   "cell_type": "code",
   "execution_count": 12,
   "metadata": {},
   "outputs": [
    {
     "data": {
      "text/plain": [
       "array([[ 0.27883603,  0.08553516,  0.53876469],\n",
       "       [ 0.27733769,  0.94053098,  0.51456956],\n",
       "       [ 0.22276246,  0.11915929,  0.13698331]])"
      ]
     },
     "execution_count": 12,
     "metadata": {},
     "output_type": "execute_result"
    }
   ],
   "source": [
    "np.random.random((3,3))"
   ]
  },
  {
   "cell_type": "code",
   "execution_count": 14,
   "metadata": {},
   "outputs": [
    {
     "data": {
      "text/plain": [
       "array([[ 0.00825041,  0.83477136, -0.50882425],\n",
       "       [-0.47116973,  0.38853694,  0.97143974],\n",
       "       [-0.69188787,  0.89130211,  0.0638276 ]])"
      ]
     },
     "execution_count": 14,
     "metadata": {},
     "output_type": "execute_result"
    }
   ],
   "source": [
    "# normal distribution random number (average = 0, standard deviation = 1) 3x3 matrix\n",
    "np.random.normal(0,1,(3,3))"
   ]
  },
  {
   "cell_type": "code",
   "execution_count": 15,
   "metadata": {},
   "outputs": [
    {
     "data": {
      "text/plain": [
       "array([[3, 2, 3],\n",
       "       [1, 0, 2],\n",
       "       [8, 6, 8]])"
      ]
     },
     "execution_count": 15,
     "metadata": {},
     "output_type": "execute_result"
    }
   ],
   "source": [
    "#[0,10]구간 임의의 정수로 채운 3x3 배열 만들기\n",
    "np.random.randint(0,10,(3,3))\n",
    "\n"
   ]
  },
  {
   "cell_type": "code",
   "execution_count": 16,
   "metadata": {},
   "outputs": [
    {
     "data": {
      "text/plain": [
       "array([[ 1.,  0.,  0.],\n",
       "       [ 0.,  1.,  0.],\n",
       "       [ 0.,  0.,  1.]])"
      ]
     },
     "execution_count": 16,
     "metadata": {},
     "output_type": "execute_result"
    }
   ],
   "source": [
    "#3x3 단위행렬 만들기\n",
    "np.eye(3)"
   ]
  },
  {
   "cell_type": "code",
   "execution_count": null,
   "metadata": {
    "collapsed": true
   },
   "outputs": [],
   "source": [
    "#기본 배열 조작\n",
    "#배열 속성 지정 : 배열의 크기, 모양, 메모리 소비량, 데이터 타입 결정\n",
    "# 배열 인덱싱 : 개별 배열 요솟값을 가져오고 설정한다.\n",
    "#배열 슬라이싱 : 큰 배열 내에 있는 작은 하위 배열을 가져오고 설정한다.\n",
    "#배열 재구조화 : 해당 배열의 형상을 변경한다.\n",
    "#배열 결합 및 분할 : 여러 배열을 하나로 결합하고 하나의 배열을 여러개로 분할한다."
   ]
  },
  {
   "cell_type": "code",
   "execution_count": 66,
   "metadata": {
    "collapsed": true
   },
   "outputs": [],
   "source": [
    "import numpy as np\n",
    "np.random.seed(0) #재현 가능성을 위한 시드값\n",
    "x1 = np.random.randint(10,size=6) #1차원 배열\n",
    "x2 = np.random.randint(10,size=(3,4)) #2차원 배열\n",
    "x3 = np.random.randint(10,size=(3,4,5)) #3차원 배열\n",
    "x4 = np.random.randint(10,size=(3,4,5,6)) "
   ]
  },
  {
   "cell_type": "code",
   "execution_count": 20,
   "metadata": {},
   "outputs": [
    {
     "data": {
      "text/plain": [
       "array([5, 0, 3, 3, 7, 9])"
      ]
     },
     "execution_count": 20,
     "metadata": {},
     "output_type": "execute_result"
    }
   ],
   "source": [
    "x1"
   ]
  },
  {
   "cell_type": "code",
   "execution_count": 21,
   "metadata": {},
   "outputs": [
    {
     "data": {
      "text/plain": [
       "array([[3, 5, 2, 4],\n",
       "       [7, 6, 8, 8],\n",
       "       [1, 6, 7, 7]])"
      ]
     },
     "execution_count": 21,
     "metadata": {},
     "output_type": "execute_result"
    }
   ],
   "source": [
    "x2"
   ]
  },
  {
   "cell_type": "code",
   "execution_count": 22,
   "metadata": {},
   "outputs": [
    {
     "data": {
      "text/plain": [
       "array([[[8, 1, 5, 9, 8],\n",
       "        [9, 4, 3, 0, 3],\n",
       "        [5, 0, 2, 3, 8],\n",
       "        [1, 3, 3, 3, 7]],\n",
       "\n",
       "       [[0, 1, 9, 9, 0],\n",
       "        [4, 7, 3, 2, 7],\n",
       "        [2, 0, 0, 4, 5],\n",
       "        [5, 6, 8, 4, 1]],\n",
       "\n",
       "       [[4, 9, 8, 1, 1],\n",
       "        [7, 9, 9, 3, 6],\n",
       "        [7, 2, 0, 3, 5],\n",
       "        [9, 4, 4, 6, 4]]])"
      ]
     },
     "execution_count": 22,
     "metadata": {},
     "output_type": "execute_result"
    }
   ],
   "source": [
    "x3"
   ]
  },
  {
   "cell_type": "code",
   "execution_count": 24,
   "metadata": {
    "collapsed": true
   },
   "outputs": [
    {
     "data": {
      "text/plain": [
       "array([[[[4, 3, 4, 4, 8, 4],\n",
       "         [3, 7, 5, 5, 0, 1],\n",
       "         [5, 9, 3, 0, 5, 0],\n",
       "         [1, 2, 4, 2, 0, 3],\n",
       "         [2, 0, 7, 5, 9, 0]],\n",
       "\n",
       "        [[2, 7, 2, 9, 2, 3],\n",
       "         [3, 2, 3, 4, 1, 2],\n",
       "         [9, 1, 4, 6, 8, 2],\n",
       "         [3, 0, 0, 6, 0, 6],\n",
       "         [3, 3, 8, 8, 8, 2]],\n",
       "\n",
       "        [[3, 2, 0, 8, 8, 3],\n",
       "         [8, 2, 8, 4, 3, 0],\n",
       "         [4, 3, 6, 9, 8, 0],\n",
       "         [8, 5, 9, 0, 9, 6],\n",
       "         [5, 3, 1, 8, 0, 4]],\n",
       "\n",
       "        [[9, 6, 5, 7, 8, 8],\n",
       "         [9, 2, 8, 6, 6, 9],\n",
       "         [1, 6, 8, 8, 3, 2],\n",
       "         [3, 6, 3, 6, 5, 7],\n",
       "         [0, 8, 4, 6, 5, 8]]],\n",
       "\n",
       "\n",
       "       [[[2, 3, 9, 7, 5, 3],\n",
       "         [4, 5, 3, 3, 7, 9],\n",
       "         [9, 9, 7, 3, 2, 3],\n",
       "         [9, 7, 7, 5, 1, 2],\n",
       "         [2, 8, 1, 5, 8, 4]],\n",
       "\n",
       "        [[0, 2, 5, 5, 0, 8],\n",
       "         [1, 1, 0, 3, 8, 8],\n",
       "         [4, 4, 0, 9, 3, 7],\n",
       "         [3, 2, 1, 1, 2, 1],\n",
       "         [4, 2, 5, 5, 5, 2]],\n",
       "\n",
       "        [[5, 7, 7, 6, 1, 6],\n",
       "         [7, 2, 3, 1, 9, 5],\n",
       "         [9, 9, 2, 0, 9, 1],\n",
       "         [9, 0, 6, 0, 4, 8],\n",
       "         [4, 3, 3, 8, 8, 7]],\n",
       "\n",
       "        [[0, 3, 8, 7, 7, 1],\n",
       "         [8, 4, 7, 0, 4, 9],\n",
       "         [0, 6, 4, 2, 4, 6],\n",
       "         [3, 3, 7, 8, 5, 0],\n",
       "         [8, 5, 4, 7, 4, 1]]],\n",
       "\n",
       "\n",
       "       [[[3, 3, 9, 2, 5, 2],\n",
       "         [3, 5, 7, 2, 7, 1],\n",
       "         [6, 5, 0, 0, 3, 1],\n",
       "         [9, 9, 6, 6, 7, 8],\n",
       "         [8, 7, 0, 8, 6, 8]],\n",
       "\n",
       "        [[9, 8, 3, 6, 1, 7],\n",
       "         [4, 9, 2, 0, 8, 2],\n",
       "         [7, 8, 4, 4, 1, 7],\n",
       "         [6, 9, 4, 1, 5, 9],\n",
       "         [7, 1, 3, 5, 7, 3]],\n",
       "\n",
       "        [[6, 6, 7, 9, 1, 9],\n",
       "         [6, 0, 3, 8, 4, 1],\n",
       "         [4, 5, 0, 3, 1, 4],\n",
       "         [4, 4, 0, 0, 8, 4],\n",
       "         [6, 9, 3, 3, 2, 1]],\n",
       "\n",
       "        [[2, 1, 3, 4, 1, 1],\n",
       "         [0, 7, 8, 4, 3, 5],\n",
       "         [6, 3, 2, 9, 8, 1],\n",
       "         [4, 0, 8, 3, 9, 5],\n",
       "         [5, 1, 7, 8, 6, 4]]]])"
      ]
     },
     "execution_count": 24,
     "metadata": {},
     "output_type": "execute_result"
    }
   ],
   "source": [
    "x4"
   ]
  },
  {
   "cell_type": "code",
   "execution_count": null,
   "metadata": {
    "collapsed": true
   },
   "outputs": [],
   "source": []
  },
  {
   "cell_type": "code",
   "execution_count": 30,
   "metadata": {},
   "outputs": [
    {
     "name": "stdout",
     "output_type": "stream",
     "text": [
      "4 (3, 4, 5, 6) 360 int64\n",
      "8 2880\n"
     ]
    }
   ],
   "source": [
    "#각 배열은 속성으로 차원의 개수(ndim), 각 차원의 크기(shape) 전체 배열의 크기(size) 세가지를 가지고 있다.\n",
    "print(x4.ndim,x4.shape,x4.size,x4.dtype)\n",
    "print(x4.itemsize,x4.nbytes)"
   ]
  },
  {
   "cell_type": "code",
   "execution_count": 45,
   "metadata": {},
   "outputs": [
    {
     "data": {
      "text/plain": [
       "1"
      ]
     },
     "execution_count": 45,
     "metadata": {},
     "output_type": "execute_result"
    }
   ],
   "source": [
    "x4[0,0,0,0]"
   ]
  },
  {
   "cell_type": "code",
   "execution_count": 57,
   "metadata": {},
   "outputs": [
    {
     "data": {
      "text/plain": [
       "array([0, 1, 8, 9, 0])"
      ]
     },
     "execution_count": 57,
     "metadata": {},
     "output_type": "execute_result"
    }
   ],
   "source": [
    "#하위 배열에 접근하기 : x[start:stop:step]\n",
    "#정해지지 않으면 기본으로 start = 0, stop = ndim, step=1로 설정된다.\n",
    "\n",
    "#1차원 하위배열\n",
    "np.random.seed(10)\n",
    "x= np.random.randint(10,size=10)\n",
    "x[5:]"
   ]
  },
  {
   "cell_type": "code",
   "execution_count": 8,
   "metadata": {},
   "outputs": [
    {
     "data": {
      "text/plain": [
       "array([[3, 5, 2],\n",
       "       [7, 6, 8]])"
      ]
     },
     "execution_count": 8,
     "metadata": {},
     "output_type": "execute_result"
    }
   ],
   "source": [
    "x2[:2,:3]"
   ]
  },
  {
   "cell_type": "code",
   "execution_count": 16,
   "metadata": {},
   "outputs": [
    {
     "name": "stdout",
     "output_type": "stream",
     "text": [
      "[[3 5 2 4]\n",
      " [7 6 8 8]\n",
      " [1 6 7 7]]\n"
     ]
    },
    {
     "data": {
      "text/plain": [
       "array([[7, 7, 6, 1],\n",
       "       [8, 8, 6, 7],\n",
       "       [4, 2, 5, 3]])"
      ]
     },
     "execution_count": 16,
     "metadata": {},
     "output_type": "execute_result"
    }
   ],
   "source": [
    "print(x2)\n",
    "x2[::-1,::-1]"
   ]
  },
  {
   "cell_type": "code",
   "execution_count": 22,
   "metadata": {},
   "outputs": [
    {
     "name": "stdout",
     "output_type": "stream",
     "text": [
      "[3 7 1]\n"
     ]
    }
   ],
   "source": [
    "print(x2[:,0])"
   ]
  },
  {
   "cell_type": "code",
   "execution_count": 23,
   "metadata": {
    "collapsed": true
   },
   "outputs": [],
   "source": [
    " x2_sub_copy = x2[:2,:2].copy()\n",
    "#copy()를 쓰면 사본으로 만든다."
   ]
  },
  {
   "cell_type": "code",
   "execution_count": 24,
   "metadata": {},
   "outputs": [
    {
     "data": {
      "text/plain": [
       "array([[3, 5],\n",
       "       [7, 6]])"
      ]
     },
     "execution_count": 24,
     "metadata": {},
     "output_type": "execute_result"
    }
   ],
   "source": [
    "x2_sub_copy"
   ]
  },
  {
   "cell_type": "code",
   "execution_count": 32,
   "metadata": {},
   "outputs": [
    {
     "data": {
      "text/plain": [
       "array([ 0.,  0.,  0.,  0.,  0.,  0.,  0.,  0.,  0.,  0.])"
      ]
     },
     "execution_count": 32,
     "metadata": {},
     "output_type": "execute_result"
    }
   ],
   "source": [
    "np.zeros(10,dtype=float)"
   ]
  },
  {
   "cell_type": "code",
   "execution_count": 35,
   "metadata": {},
   "outputs": [
    {
     "data": {
      "text/plain": [
       "array([ 1,  2,  3,  3,  2,  1, 99, 99, 99])"
      ]
     },
     "execution_count": 35,
     "metadata": {},
     "output_type": "execute_result"
    }
   ],
   "source": [
    "#배열 연결\n",
    "# 배열 연결에는 np.concatenate, np.vstack, np.hstack 루틴을 이용해 두 배열을 결합하거나 연결한다.\n",
    "# np.concatenate는 튜플이나 배열의 리스트를 첫번째 인수로 취한다.\n",
    "x = np.array([1,2,3])\n",
    "y = np.array([3,2,1])\n",
    "np.concatenate([x,y])\n",
    "#3개도 가능하다.\n",
    "z = np.array([99,99,99])\n",
    "np.concatenate([x,y,z])"
   ]
  },
  {
   "cell_type": "code",
   "execution_count": 42,
   "metadata": {},
   "outputs": [
    {
     "name": "stdout",
     "output_type": "stream",
     "text": [
      "[[1 2 3]\n",
      " [4 5 6]]\n"
     ]
    },
    {
     "data": {
      "text/plain": [
       "array([[1, 2, 3, 1, 2, 3],\n",
       "       [4, 5, 6, 4, 5, 6]])"
      ]
     },
     "execution_count": 42,
     "metadata": {},
     "output_type": "execute_result"
    }
   ],
   "source": [
    "# 2 차원 배열의 np.concatenate\n",
    "grid = np.array([[1,2,3],[4,5,6]])\n",
    "print(grid)\n",
    "np.concatenate([grid,grid])\n",
    "#두번째 축을 따라 연결\n",
    "np.concatenate([grid,grid],axis = 1)"
   ]
  },
  {
   "cell_type": "code",
   "execution_count": 58,
   "metadata": {
    "scrolled": true
   },
   "outputs": [
    {
     "name": "stdout",
     "output_type": "stream",
     "text": [
      "[[[8 1 5 9 8]\n",
      "  [9 4 3 0 3]\n",
      "  [5 0 2 3 8]\n",
      "  [1 3 3 3 7]]\n",
      "\n",
      " [[0 1 9 9 0]\n",
      "  [4 7 3 2 7]\n",
      "  [2 0 0 4 5]\n",
      "  [5 6 8 4 1]]\n",
      "\n",
      " [[4 9 8 1 1]\n",
      "  [7 9 9 3 6]\n",
      "  [7 2 0 3 5]\n",
      "  [9 4 4 6 4]]\n",
      "\n",
      " [[8 1 5 9 8]\n",
      "  [9 4 3 0 3]\n",
      "  [5 0 2 3 8]\n",
      "  [1 3 3 3 7]]\n",
      "\n",
      " [[0 1 9 9 0]\n",
      "  [4 7 3 2 7]\n",
      "  [2 0 0 4 5]\n",
      "  [5 6 8 4 1]]\n",
      "\n",
      " [[4 9 8 1 1]\n",
      "  [7 9 9 3 6]\n",
      "  [7 2 0 3 5]\n",
      "  [9 4 4 6 4]]]\n",
      "###############\n",
      "[[[8 1 5 9 8]\n",
      "  [9 4 3 0 3]\n",
      "  [5 0 2 3 8]\n",
      "  [1 3 3 3 7]]\n",
      "\n",
      " [[0 1 9 9 0]\n",
      "  [4 7 3 2 7]\n",
      "  [2 0 0 4 5]\n",
      "  [5 6 8 4 1]]\n",
      "\n",
      " [[4 9 8 1 1]\n",
      "  [7 9 9 3 6]\n",
      "  [7 2 0 3 5]\n",
      "  [9 4 4 6 4]]\n",
      "\n",
      " [[8 1 5 9 8]\n",
      "  [9 4 3 0 3]\n",
      "  [5 0 2 3 8]\n",
      "  [1 3 3 3 7]]\n",
      "\n",
      " [[0 1 9 9 0]\n",
      "  [4 7 3 2 7]\n",
      "  [2 0 0 4 5]\n",
      "  [5 6 8 4 1]]\n",
      "\n",
      " [[4 9 8 1 1]\n",
      "  [7 9 9 3 6]\n",
      "  [7 2 0 3 5]\n",
      "  [9 4 4 6 4]]]\n"
     ]
    }
   ],
   "source": [
    "#2차원 배열의 np.concatenate 2\n",
    "print(np.concatenate([x3,x3],axis = 0))\n",
    "print('###############')\n",
    "print(np.concatenate([x3,x3]))\n",
    "# 모르겠는걸?"
   ]
  },
  {
   "cell_type": "code",
   "execution_count": 63,
   "metadata": {},
   "outputs": [
    {
     "name": "stdout",
     "output_type": "stream",
     "text": [
      "[1 2 3] [99 99] [3 2 1]\n"
     ]
    },
    {
     "data": {
      "text/plain": [
       "array([3, 2, 1])"
      ]
     },
     "execution_count": 63,
     "metadata": {},
     "output_type": "execute_result"
    }
   ],
   "source": [
    "#혼합된 차원을 배열을 작업할땐 np.vstack(수직스택, vertical stack)과 np.hstack(수평스택) 함수를 사용하는게 더 명확하다.\n",
    "x = [1,2,3,99,99,3,2,1]\n",
    "x1, x2, x3 = np.split(x,[3,5]) #3,5 인덱스로 잘라준다. N개의 분할점은  N+1의 하위 배열을 만든다.\n",
    "print(x1,x2,x3)\n",
    "\n"
   ]
  },
  {
   "cell_type": "code",
   "execution_count": 86,
   "metadata": {},
   "outputs": [
    {
     "data": {
      "text/plain": [
       "array([[ 0,  1,  2,  3],\n",
       "       [ 4,  5,  6,  7],\n",
       "       [ 8,  9, 10, 11],\n",
       "       [12, 13, 14, 15]])"
      ]
     },
     "execution_count": 86,
     "metadata": {},
     "output_type": "execute_result"
    }
   ],
   "source": [
    "grid = np.arange(16).reshape((4,4))\n",
    "grid"
   ]
  },
  {
   "cell_type": "code",
   "execution_count": 97,
   "metadata": {
    "collapsed": true
   },
   "outputs": [],
   "source": [
    "upper, lower = np.vsplit(grid,[2])\n",
    "left, right = np.hsplit(grid,[2])"
   ]
  },
  {
   "cell_type": "code",
   "execution_count": 89,
   "metadata": {},
   "outputs": [
    {
     "name": "stdout",
     "output_type": "stream",
     "text": [
      "[[0 1 2 3]\n",
      " [4 5 6 7]]\n",
      "[[ 8  9 10 11]\n",
      " [12 13 14 15]]\n"
     ]
    }
   ],
   "source": [
    "print(upper)\n",
    "print(lower)"
   ]
  },
  {
   "cell_type": "code",
   "execution_count": 98,
   "metadata": {},
   "outputs": [
    {
     "name": "stdout",
     "output_type": "stream",
     "text": [
      "[[ 0  1]\n",
      " [ 4  5]\n",
      " [ 8  9]\n",
      " [12 13]]\n",
      "[[ 2  3]\n",
      " [ 6  7]\n",
      " [10 11]\n",
      " [14 15]]\n"
     ]
    }
   ],
   "source": [
    "print(left)\n",
    "print(right)"
   ]
  },
  {
   "cell_type": "code",
   "execution_count": 101,
   "metadata": {},
   "outputs": [
    {
     "data": {
      "text/plain": [
       "array([ 0.16666667,  1.        ,  0.25      ,  0.25      ,  0.125     ])"
      ]
     },
     "execution_count": 101,
     "metadata": {},
     "output_type": "execute_result"
    }
   ],
   "source": [
    "#numpy 배열 연산 : 유니버셜 함수\n",
    "# numpy 배열 연산은 vectorized 연산을 하는데, 유니버셜 함수를 통해 구현된다. \n",
    "import numpy as np\n",
    "np.random.seed(0)\n",
    "def compute_reciprocals(values):\n",
    "    output = np.empty(len(values))\n",
    "    for i in range(len(values)):\n",
    "        output[i] = 1.0/values[i]\n",
    "    return output\n",
    "values = np.random.randint(1,10,size=5)\n",
    "compute_reciprocals(values)\n",
    "    "
   ]
  },
  {
   "cell_type": "code",
   "execution_count": 102,
   "metadata": {},
   "outputs": [
    {
     "name": "stdout",
     "output_type": "stream",
     "text": [
      "3.02 s ± 19.1 ms per loop (mean ± std. dev. of 7 runs, 1 loop each)\n"
     ]
    }
   ],
   "source": [
    "big_array = np.random.randint(1,100,size=1000000)\n",
    "%timeit compute_reciprocals(big_array)\n",
    "'''\n",
    "병목이ㅣ 연산 자체에 있는게 아니라 CPython이 루프의 사이클마다 수행해야하는 타입확인과 함수 디스패치에서 발생한다.\n",
    "역수가 계산될때마다 파이썬은 먼저 객체의 타입을 확인하고 해당 타입에 맞게 사용할 적절한 함수를 동적으로 검색한다.\n",
    "컴파일된 코드로 작업했다면 코드를 실행하기 전에 타입을 알았을 것이고, 결과값은 좀 더 효율적으로 계산됐을것이다.\n",
    "\n",
    "UFuncs\n",
    "numpy는 정적 타입을 가진 컴파일된 루틴에 편리한 인터페이스를 제공한다?\n",
    "이를 벡터화 연산이라고 한다.\n",
    "백터화 연산은 간단히 배열에 연산을 수행해 각 요소에 적용한다.\n",
    "벡터화 방식은 루프를 컴파일된 계층으로 계산해서 훨씬 빠르게 실행되도록 설계되었다.\n",
    "'''"
   ]
  },
  {
   "cell_type": "code",
   "execution_count": 103,
   "metadata": {},
   "outputs": [
    {
     "name": "stdout",
     "output_type": "stream",
     "text": [
      "[ 0.16666667  1.          0.25        0.25        0.125     ]\n",
      "[ 0.16666667  1.          0.25        0.25        0.125     ]\n"
     ]
    }
   ],
   "source": [
    "print(compute_reciprocals(values))\n",
    "print(1.0/values)"
   ]
  },
  {
   "cell_type": "code",
   "execution_count": 104,
   "metadata": {},
   "outputs": [
    {
     "name": "stdout",
     "output_type": "stream",
     "text": [
      "2.49 ms ± 18.4 µs per loop (mean ± std. dev. of 7 runs, 100 loops each)\n"
     ]
    }
   ],
   "source": [
    "%timeit (1.0/big_array)\n",
    "#numpy에서 벡터화 연산은 배열의 값에 반복된 연산을 빠르게 수행하는 것을 주목적으로 하는 ufuncs를 통해 구현된다.\n",
    "#ufuncs는 굉장히 유연해서 스칼라와 배열 사이의 연산, 두 배열 간의 연산도 가능하다."
   ]
  },
  {
   "cell_type": "code",
   "execution_count": 112,
   "metadata": {},
   "outputs": [
    {
     "name": "stdout",
     "output_type": "stream",
     "text": [
      "2.6 µs ± 18.2 ns per loop (mean ± std. dev. of 7 runs, 100000 loops each)\n"
     ]
    }
   ],
   "source": [
    "%timeit np.arange(5)/np.arange(1,6)"
   ]
  },
  {
   "cell_type": "code",
   "execution_count": 122,
   "metadata": {},
   "outputs": [
    {
     "data": {
      "text/plain": [
       "array([-1, -2, -3])"
      ]
     },
     "execution_count": 122,
     "metadata": {},
     "output_type": "execute_result"
    }
   ],
   "source": [
    "#벡터화 연산은 루프를 이용한 연산보다 대부분 더 효율적이며 배열이 커질 수록 그 차이가 확연하다.\n",
    "#기본적인 사칙연산 + 제곱, 나머지 연산자 다 된다.\n",
    "x = np.arange(1,4)\n",
    "x*(-1)"
   ]
  },
  {
   "cell_type": "code",
   "execution_count": 127,
   "metadata": {},
   "outputs": [
    {
     "data": {
      "text/plain": [
       "array([2, 1, 0, 1])"
      ]
     },
     "execution_count": 127,
     "metadata": {},
     "output_type": "execute_result"
    }
   ],
   "source": [
    "#절댓값 함수 사용가능 , 허수에도 적용된다.\n",
    "x = np.arange(-2,2)\n",
    "np.absolute(x)"
   ]
  },
  {
   "cell_type": "code",
   "execution_count": 129,
   "metadata": {},
   "outputs": [
    {
     "name": "stdout",
     "output_type": "stream",
     "text": [
      "[ 0.          1.57079633  3.14159265]\n",
      "[  0.00000000e+00   1.00000000e+00   1.22464680e-16]\n",
      "[  1.00000000e+00   6.12323400e-17  -1.00000000e+00]\n",
      "[  0.00000000e+00   1.63312394e+16  -1.22464680e-16]\n"
     ]
    }
   ],
   "source": [
    "#삼각함수 적용 가능\n",
    "theta = np.linspace(0,np.pi,3)\n",
    "print(theta)\n",
    "print(np.sin(theta))\n",
    "print(np.cos(theta))\n",
    "print(np.tan(theta))"
   ]
  },
  {
   "cell_type": "code",
   "execution_count": 132,
   "metadata": {},
   "outputs": [
    {
     "name": "stdout",
     "output_type": "stream",
     "text": [
      "[-0.5  0.   0.5]\n",
      "[ 1.   0.5  0. ]\n",
      "[-0.25  0.    0.25]\n"
     ]
    }
   ],
   "source": [
    "x = [-1,0,1]\n",
    "print(np.arcsin(x)/np.pi)\n",
    "print(np.arccos(x)/np.pi)\n",
    "print(np.arctan(x)/np.pi)\n"
   ]
  },
  {
   "cell_type": "code",
   "execution_count": 133,
   "metadata": {},
   "outputs": [
    {
     "name": "stdout",
     "output_type": "stream",
     "text": [
      "[  2.71828183   7.3890561   20.08553692]\n",
      "[ 2.  4.  8.]\n",
      "[ 3  9 27]\n"
     ]
    }
   ],
   "source": [
    "### 지수와 로그\n",
    "x=[1,2,3]\n",
    "print(np.exp(x))\n",
    "print(np.exp2(x))\n",
    "print(np.power(3,x))\n"
   ]
  },
  {
   "cell_type": "code",
   "execution_count": 138,
   "metadata": {},
   "outputs": [
    {
     "name": "stdout",
     "output_type": "stream",
     "text": [
      "[ 0.          1.          1.38629436  2.30258509]\n",
      "[ 0.          1.44269504  2.          3.32192809]\n",
      "[ 0.          0.43429448  0.60205999  1.        ]\n"
     ]
    }
   ],
   "source": [
    "#자연상수가 default\n",
    "x = [1,np.e,4,10]\n",
    "print(np.log(x))\n",
    "print(np.log2(x))\n",
    "print(np.log10(x))"
   ]
  },
  {
   "cell_type": "code",
   "execution_count": 142,
   "metadata": {},
   "outputs": [
    {
     "name": "stdout",
     "output_type": "stream",
     "text": [
      "gamma(x) =  [  1.00000000e+00   2.40000000e+01   3.62880000e+05]\n",
      "ln|gamma(x)| =  [  0.           3.17805383  12.80182748]\n",
      "[ 0.5         0.03333333  0.00909091]\n"
     ]
    }
   ],
   "source": [
    "#numpy에는 쌍곡선 삼각함수, 비트연산, 비교연산자, 라디안을 각도로 변환, 반올림과 나머지 등을 나타낼 수 있다.\n",
    "#전문적이고 보기 드문 ufunc은 scipy.special에 있다.\n",
    "from scipy import special\n",
    "#감마 함수(일반화된 계승)과 관련 함수\n",
    "x = [1,5,10]\n",
    "print('gamma(x) = ', special.gamma(x))\n",
    "print('ln|gamma(x)| = ', special.gammaln(x))\n",
    "print(special.beta(x,2))"
   ]
  },
  {
   "cell_type": "code",
   "execution_count": null,
   "metadata": {
    "collapsed": true
   },
   "outputs": [],
   "source": [
    "#고급 ufunc 기능 \n",
    "#1. 출력지정 : 대규모 연산인 경우 연산결과를 저장할 배열을 지정하는게 유옹할 때가 있다.\n",
    "#임시 배열을 생성하지 않고 지정한 배열을 이용해 원하는 메모리 위치에 직접 연산 결과를 쓸 수 있다.\n",
    "\n"
   ]
  },
  {
   "cell_type": "code",
   "execution_count": 2,
   "metadata": {},
   "outputs": [
    {
     "data": {
      "text/plain": [
       "47.57967771356364"
      ]
     },
     "execution_count": 2,
     "metadata": {},
     "output_type": "execute_result"
    }
   ],
   "source": [
    "import numpy as np \n",
    "L = np.random.random(100)\n",
    "sum(L)"
   ]
  },
  {
   "cell_type": "code",
   "execution_count": 3,
   "metadata": {},
   "outputs": [
    {
     "data": {
      "text/plain": [
       "52.724419728306856"
      ]
     },
     "execution_count": 3,
     "metadata": {},
     "output_type": "execute_result"
    }
   ],
   "source": [
    "np.sum(L)"
   ]
  },
  {
   "cell_type": "code",
   "execution_count": 5,
   "metadata": {},
   "outputs": [
    {
     "name": "stdout",
     "output_type": "stream",
     "text": [
      "71 ms ± 1.35 ms per loop (mean ± std. dev. of 7 runs, 10 loops each)\n",
      "360 µs ± 6.23 µs per loop (mean ± std. dev. of 7 runs, 1000 loops each)\n",
      "0.999999832617\n",
      "7.29270333122e-07\n"
     ]
    }
   ],
   "source": [
    "big_array = np.random.rand(1000000)\n",
    "%timeit sum(big_array)\n",
    "%timeit np.sum(big_array)\n",
    "\n",
    "#np.sum의 경우 다중 배열 차원ㅇ르 인지한다.\n",
    "\n"
   ]
  },
  {
   "cell_type": "code",
   "execution_count": 7,
   "metadata": {},
   "outputs": [
    {
     "name": "stdout",
     "output_type": "stream",
     "text": [
      "0.999999832617\n",
      "7.29270333122e-07\n",
      "[[ 0.54654282  0.80880016  0.25039479  0.16412348]\n",
      " [ 0.65590174  0.51626997  0.64169226  0.87245776]\n",
      " [ 0.7901843   0.7955313   0.36710771  0.20779334]]\n"
     ]
    }
   ],
   "source": [
    "print(max(big_array))\n",
    "print(min(big_array))\n",
    "#다차원 집계\n",
    "M = np.random.random((3,4))\n",
    "print(M)"
   ]
  },
  {
   "cell_type": "code",
   "execution_count": 8,
   "metadata": {},
   "outputs": [
    {
     "data": {
      "text/plain": [
       "6.6167996274734797"
      ]
     },
     "execution_count": 8,
     "metadata": {},
     "output_type": "execute_result"
    }
   ],
   "source": [
    "M.sum()"
   ]
  },
  {
   "cell_type": "code",
   "execution_count": 9,
   "metadata": {},
   "outputs": [
    {
     "data": {
      "text/plain": [
       "array([ 0.54654282,  0.51626997,  0.25039479,  0.16412348])"
      ]
     },
     "execution_count": 9,
     "metadata": {},
     "output_type": "execute_result"
    }
   ],
   "source": [
    "#각 열의 최솟값을 출력할 수 있다.\n",
    "M.min(axis=0)"
   ]
  },
  {
   "cell_type": "code",
   "execution_count": 10,
   "metadata": {},
   "outputs": [
    {
     "name": "stdout",
     "output_type": "stream",
     "text": [
      "order,name,height(cm)\r\n",
      "1,George Washington,189\r\n",
      "2,John Adams,170\r\n",
      "3,Thomas Jefferson,189\r\n",
      "4,James Madison,163\r\n",
      "5,James Monroe,183\r\n",
      "6,John Quincy Adams,171\r\n",
      "7,Andrew Jackson,185\r\n",
      "8,Martin Van Buren,168\r\n",
      "9,William Henry Harrison,173\r\n"
     ]
    }
   ],
   "source": [
    "!head /home/changawan/data/data/president_heights.csv"
   ]
  },
  {
   "cell_type": "code",
   "execution_count": 4,
   "metadata": {},
   "outputs": [
    {
     "name": "stdout",
     "output_type": "stream",
     "text": [
      "[189 170 189 163 183 171 185 168 173 183 173 173 175 178 183 193 178 173\n",
      " 174 183 183 168 170 178 182 180 183 178 182 188 175 179 183 193 182 183\n",
      " 177 185 188 188 182 185]\n"
     ]
    }
   ],
   "source": [
    "import pandas as pd\n",
    "data = pd.read_csv('/home/changawan/data/data/president_heights.csv')\n",
    "heights = np.array(data['height(cm)']) #heights(cm)이라는 컬럼을 뽑아온다.\n",
    "print(heights)"
   ]
  },
  {
   "cell_type": "code",
   "execution_count": 5,
   "metadata": {},
   "outputs": [
    {
     "name": "stdout",
     "output_type": "stream",
     "text": [
      "Mean height  :  179.738095238\n",
      "Standard deviation :  6.93184344275\n",
      "Minimun heights :  163\n",
      "Maximun heights :  193\n"
     ]
    }
   ],
   "source": [
    "print(\"Mean height  : \", heights.mean())#평균 키\n",
    "print(\"Standard deviation : \", heights.std())#표준편차\n",
    "print(\"Minimun heights : \", heights.min())\n",
    "print(\"Maximun heights : \",heights.max())"
   ]
  },
  {
   "cell_type": "code",
   "execution_count": 7,
   "metadata": {},
   "outputs": [
    {
     "name": "stdout",
     "output_type": "stream",
     "text": [
      "25th percentile:  174.25\n",
      "median:  182.0\n",
      "75th percentile:  182.0\n"
     ]
    }
   ],
   "source": [
    "print(\"25th percentile: \",np.percentile(heights,25))\n",
    "print(\"median: \", np.median(heights))\n",
    "print(\"75th percentile: \",np.median(heights))"
   ]
  },
  {
   "cell_type": "code",
   "execution_count": 2,
   "metadata": {
    "collapsed": true
   },
   "outputs": [],
   "source": [
    "import numpy as np"
   ]
  },
  {
   "cell_type": "code",
   "execution_count": 9,
   "metadata": {},
   "outputs": [
    {
     "data": {
      "text/plain": [
       "array([5, 6, 7])"
      ]
     },
     "execution_count": 9,
     "metadata": {},
     "output_type": "execute_result"
    }
   ],
   "source": [
    "#배열 연산 : 브로드캐스팅\n",
    "'''\n",
    "느린 파이썬의 루프를 제거하기위해 벡터화 했다.\n",
    "numpy는 브로드캐스팅 기능이 있다.\n",
    "다른크기의 배열에 이행 유니버셜 함수(덧셈,뺄셈) 을 적용하기 위한 규칙의 집합\n",
    "'''\n",
    "#브로드 캐스팅 소개 : 같은 크기의 배열에서 이항연산은 배열의 요소단위로 수행된다.\n",
    "a=np.array([0,1,2]) #리스트를 어레이처리한다.\n",
    "b=np.array([5,5,5])\n",
    "a+b\n",
    "#array([5, 6, 7])\n",
    "'''\n",
    "브로드캐스팅을 사용하면 이러한 유형의 이항 연산을 다른 크기의 배열에서 수행 할 ㅅ 윘다.\n",
    "배열에 스칼라(0차원의 배열)를 쉽게 더할 수 있다.\n",
    "'''\n",
    "a+5\n",
    "#array([5, 6, 7])\n"
   ]
  },
  {
   "cell_type": "markdown",
   "metadata": {
    "collapsed": true
   },
   "source": [
    "쉽게 생각해서 5,5,5 배열을 더한다고 생각하면 된다.\n",
    "브로드 캐스팅의 장점 : 값 복제가 실제로 발생하지 않는다.\n",
    "높은 차원의 배열로 확장해보자."
   ]
  },
  {
   "cell_type": "code",
   "execution_count": 12,
   "metadata": {},
   "outputs": [
    {
     "data": {
      "text/plain": [
       "array([[ 1.,  1.,  1.],\n",
       "       [ 1.,  1.,  1.],\n",
       "       [ 1.,  1.,  1.]])"
      ]
     },
     "execution_count": 12,
     "metadata": {},
     "output_type": "execute_result"
    }
   ],
   "source": [
    "M = np.ones((3,3))\n",
    "M"
   ]
  },
  {
   "cell_type": "code",
   "execution_count": 13,
   "metadata": {},
   "outputs": [
    {
     "data": {
      "text/plain": [
       "array([[ 1.,  2.,  3.],\n",
       "       [ 1.,  2.,  3.],\n",
       "       [ 1.,  2.,  3.]])"
      ]
     },
     "execution_count": 13,
     "metadata": {},
     "output_type": "execute_result"
    }
   ],
   "source": [
    "M+a\n",
    "'''\n",
    "array([[ 1.,  2.,  3.],\n",
    "       [ 1.,  2.,  3.],\n",
    "       [ 1.,  2.,  3.]])\n",
    "결과를 해석해보면 a는 M의 형상에 맞추기 위해 두번째 차원까지 확장 또는 브로드캐스팅된다.\n",
    "두 배열 모두 브로드캐스팅해야하는 경우 복잡해진다.\n",
    "'''\n"
   ]
  },
  {
   "cell_type": "code",
   "execution_count": 26,
   "metadata": {},
   "outputs": [
    {
     "data": {
      "text/plain": [
       "array([[0, 1, 2],\n",
       "       [1, 2, 3],\n",
       "       [2, 3, 4]])"
      ]
     },
     "execution_count": 26,
     "metadata": {},
     "output_type": "execute_result"
    }
   ],
   "source": [
    "a = np.arange(3)\n",
    "b = np.arange(3)[:,np.newaxis]\n",
    "\n",
    "'''\n",
    "a\n",
    "array([0, 1, 2])\n",
    "b\n",
    "array([[0],\n",
    "       [1],\n",
    "       [2]])\n",
    "a+b\n",
    "array([[0, 1, 2],\n",
    "       [1, 2, 3],\n",
    "       [2, 3, 4]])\n",
    "위 결과는 a와  b 모두 브로드캐스팅되었다.\n",
    "    \n",
    "'''\n",
    "b+a"
   ]
  },
  {
   "cell_type": "markdown",
   "metadata": {},
   "source": [
    "브로드캐스팅의 규칙을 알아보자\n",
    "1. 두 배열의 차원수가 다르면 더 적은수의 차원을 가진 배열 형상의 앞쪽(왼쪽)을 1로 채운다.\n",
    "2. 두 배열의 형상이 어떤 차원에서도 일치하지 않는다면 해당 차원의 형상이 1인 배열이 다른 형상과 일치하도록 늘어난다.\n",
    "3. 임의의 차원에서 크기가 일치하지 않고 1도 아니라면 오류가 발생한다."
   ]
  },
  {
   "cell_type": "code",
   "execution_count": 56,
   "metadata": {},
   "outputs": [],
   "source": [
    "#1차원에 2차원 배열을 더해보자\n",
    "M = np.ones((3,2))\n",
    "a = np.arange(3)[:,np.newaxis]"
   ]
  },
  {
   "cell_type": "code",
   "execution_count": 57,
   "metadata": {},
   "outputs": [
    {
     "data": {
      "text/plain": [
       "array([[ 1.,  1.],\n",
       "       [ 2.,  2.],\n",
       "       [ 3.,  3.]])"
      ]
     },
     "execution_count": 57,
     "metadata": {},
     "output_type": "execute_result"
    }
   ],
   "source": [
    "M+a"
   ]
  },
  {
   "cell_type": "markdown",
   "metadata": {},
   "source": [
    "M의 배열이 2,3이고 a의 배열이 (3,) 인 경우\n"
   ]
  },
  {
   "cell_type": "markdown",
   "metadata": {},
   "source": [
    "## 실전 브로드캐스팅\n",
    "진작에 이거부터 할걸그랬다.\n",
    "ufunc을 사용하면 느린 파이썬 루프를 명시적으로 안써도 된다.\n",
    "\n",
    "## 데이터 중앙정렬하기?"
   ]
  },
  {
   "cell_type": "code",
   "execution_count": 71,
   "metadata": {},
   "outputs": [
    {
     "data": {
      "text/plain": [
       "array([ 0.37234258,  0.58285884,  0.48128706])"
      ]
     },
     "execution_count": 71,
     "metadata": {},
     "output_type": "execute_result"
    }
   ],
   "source": [
    "X = np.random.random((10,3)) #10x3의 배열을 만들었다.\n",
    "Xmean = X.mean(0) #0은 col 기준, 1은 row기준\n",
    "Xmean"
   ]
  },
  {
   "cell_type": "code",
   "execution_count": 78,
   "metadata": {},
   "outputs": [
    {
     "data": {
      "text/plain": [
       "array([  2.22044605e-17,   4.44089210e-17,   4.99600361e-17])"
      ]
     },
     "execution_count": 78,
     "metadata": {},
     "output_type": "execute_result"
    }
   ],
   "source": [
    "#평균값을 뺌으로써 X배열을 중앙정렬할 수 있다.\n",
    "X_centered = X - Xmean\n",
    "X_centered.mean(0)"
   ]
  },
  {
   "cell_type": "markdown",
   "metadata": {},
   "source": [
    "## 2차원 함수를 플롯-팅 해보자\n",
    "브로드캐스팅은 2차원 함수를 기반으로 이미지를 그릴때도 유용하다고 한다!\n",
    "함수를 정의하고 싶다면 브로드캐스팅을 사용해 그리드에 이 함수를 계산할 수 있다. 이게 무슨소리야"
   ]
  },
  {
   "cell_type": "code",
   "execution_count": 97,
   "metadata": {},
   "outputs": [],
   "source": [
    "#x와 y는 0에서 5까지 50단계로 나눈 배열이다.\n",
    "x = np.linspace(0,5,50)\n",
    "y = np.linspace(0,5,50)[:,np.newaxis]\n",
    "z = np.sin(x) ** 10 + np.cos(10 + y*x) * np.cos(x)"
   ]
  },
  {
   "cell_type": "code",
   "execution_count": 98,
   "metadata": {
    "collapsed": true
   },
   "outputs": [],
   "source": [
    "#2차원 배열을 플롯팅하는데 matplotlib을 사용한다. \n",
    "%matplotlib inline\n",
    "import matplotlib.pyplot as plt"
   ]
  },
  {
   "cell_type": "code",
   "execution_count": 99,
   "metadata": {},
   "outputs": [
    {
     "data": {
      "image/png": "[encoded data removed]",
      "text/plain": [
       "<matplotlib.figure.Figure at 0x7f22edceee48>"
      ]
     },
     "metadata": {},
     "output_type": "display_data"
    }
   ],
   "source": [
    "plt.imshow(z, origin='lower',extent = [0, 5, 0, 5], cmap = 'viridis')\n",
    "plt.colorbar();\n",
    "#난 도대체 뭘 그린걸까 2차원의 함수를 색상으로 나타낼 수 있다.\n",
    "#옆에 있는 것을 밀도플롯과 등고선 플롯을 그릴 수 있다. "
   ]
  },
  {
   "cell_type": "code",
   "execution_count": null,
   "metadata": {
    "collapsed": true
   },
   "outputs": [],
   "source": []
  },
  {
   "cell_type": "code",
   "execution_count": null,
   "metadata": {
    "collapsed": true
   },
   "outputs": [],
   "source": []
  },
  {
   "cell_type": "code",
   "execution_count": null,
   "metadata": {
    "collapsed": true
   },
   "outputs": [],
   "source": []
  },
  {
   "cell_type": "code",
   "execution_count": null,
   "metadata": {
    "collapsed": true
   },
   "outputs": [],
   "source": []
  },
  {
   "cell_type": "code",
   "execution_count": null,
   "metadata": {
    "collapsed": true
   },
   "outputs": [],
   "source": []
  }
 ],
 "metadata": {
  "kernelspec": {
   "display_name": "Python 3",
   "language": "python",
   "name": "python3"
  },
  "language_info": {
   "codemirror_mode": {
    "name": "ipython",
    "version": 3
   },
   "file_extension": ".py",
   "mimetype": "text/x-python",
   "name": "python",
   "nbconvert_exporter": "python",
   "pygments_lexer": "ipython3",
   "version": "3.6.3"
  }
 },
 "nbformat": 4,
 "nbformat_minor": 2
}
